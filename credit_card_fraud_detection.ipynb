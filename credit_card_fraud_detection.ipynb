import joblib
joblib.dump(logistic_imb_model, "fraud_detection_model.pkl")
